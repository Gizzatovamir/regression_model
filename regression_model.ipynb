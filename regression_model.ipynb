{
 "cells": [
  {
   "cell_type": "code",
   "execution_count": 1,
   "id": "28f9b744-0198-42a2-b0b0-5f0fdaa9a030",
   "metadata": {},
   "outputs": [],
   "source": [
    "import numpy as np\n",
    "import pandas as pd\n",
    "import matplotlib.pyplot as plt\n",
    "import torch\n",
    "import pathlib\n",
    "import seaborn as sns\n",
    "import pathlib\n",
    "# to use r2 as loss function (dont work yet)\n",
    "from torchmetrics.functional import r2_score as r2_loss\n",
    "from torcheval.metrics.functional import r2_score\n",
    "from torch.utils.data.sampler import SubsetRandomSampler\n",
    "from torch.utils.tensorboard import SummaryWriter\n",
    "import torch.nn as nn\n",
    "import torch.optim as optim\n",
    "import logging\n",
    "from copy import copy\n",
    "import time\n",
    "import os\n",
    "from typing import List, Tuple"
   ]
  },
  {
   "cell_type": "code",
   "execution_count": 2,
   "id": "ec139866-fc2e-4b2e-9ba6-29ec863f59c6",
   "metadata": {},
   "outputs": [
    {
     "name": "stdout",
     "output_type": "stream",
     "text": [
      "cuda:0\n"
     ]
    }
   ],
   "source": [
    "device = torch.device(\"cuda:0\" if torch.cuda.is_available() else \"cpu\")\n",
    "print(device)"
   ]
  },
  {
   "cell_type": "code",
   "execution_count": 3,
   "id": "428e9b8f-d4ee-491f-86e0-2eab3ac2942e",
   "metadata": {},
   "outputs": [],
   "source": [
    "# read csv and craete pd dataframe\n",
    "csv_path = pathlib.Path(\"./data/2022_Test_ML.csv\")\n",
    "df = pd.read_csv(csv_path)\n",
    "df = df.drop([\"ind\"], axis=1)"
   ]
  },
  {
   "cell_type": "code",
   "execution_count": 4,
   "id": "921fb745-1a7d-41ab-a26c-869073788d31",
   "metadata": {},
   "outputs": [
    {
     "data": {
      "text/plain": [
       "<bound method NDFrame.head of          s_mt      s_mq         d       h_p           QW           DP\n",
       "0    1.409218  1.954108  2.867735  7.811623  1504.175621   501.563016\n",
       "1    1.382565  2.006212  1.545090  8.124248  1240.530500   377.163158\n",
       "2    1.622445  1.386172  1.192385  7.354709  1385.191155   457.404772\n",
       "3    1.786172  1.591984  2.350701  4.324649  1602.841975  1429.795145\n",
       "4    1.995591  2.024449  1.208417  6.993988  1326.290979   514.009143\n",
       "..        ...       ...       ...       ...          ...          ...\n",
       "495  0.994188  0.898998  1.276553  7.450902  1372.713745   427.058560\n",
       "496  2.067936  1.094389  2.198397  4.396794  1485.744424  1201.422759\n",
       "497  1.847094  1.287174  2.134269  9.939880  1573.955147   344.570374\n",
       "498  1.458717  1.057916  1.044088  9.110220  1090.437833   314.558218\n",
       "499  0.811423  1.146493  2.106212  6.513026  1646.376404   671.620077\n",
       "\n",
       "[500 rows x 6 columns]>"
      ]
     },
     "execution_count": 4,
     "metadata": {},
     "output_type": "execute_result"
    }
   ],
   "source": [
    "df.head"
   ]
  },
  {
   "cell_type": "code",
   "execution_count": 5,
   "id": "85dd4f21-1494-4702-82b9-62df3cb74d8a",
   "metadata": {},
   "outputs": [],
   "source": [
    "ranges_dict: dict = {\n",
    "    \"s_mt\": {\n",
    "        \"max\": 2.7,\n",
    "        \"min\": 0.8\n",
    "    },\n",
    "    \"s_mq\": {\n",
    "        \"max\": 2.1,\n",
    "        \"min\": 0.8\n",
    "    },\n",
    "    \"d\": {\n",
    "        \"max\": 3.0,\n",
    "        \"min\": 1.0\n",
    "    },\n",
    "    \"h_p\": {\n",
    "        \"max\": 10.0,\n",
    "        \"min\": 4.0\n",
    "    }\n",
    "}\n",
    "def filter_df(df:pd.DataFrame, input_variation_range: dict, column_name: str) -> pd.DataFrame:\n",
    "    return df[(df[column_name] >= input_variation_range[\"min\"]) & (df[column_name] <= input_variation_range[\"max\"])]    \n",
    "    "
   ]
  },
  {
   "cell_type": "code",
   "execution_count": 6,
   "id": "4a204895-1ac5-4eb8-afe7-02d5d72d24f2",
   "metadata": {},
   "outputs": [
    {
     "name": "stdout",
     "output_type": "stream",
     "text": [
      "500\n",
      "500\n",
      "500\n",
      "500\n"
     ]
    }
   ],
   "source": [
    "# checking if all features are in the range\n",
    "featueres = [\"s_mt\", \"s_mq\", \"d\", \"h_p\"]\n",
    "for feature in featueres:\n",
    "    df = filter_df(df, ranges_dict.get(feature), feature)\n",
    "    print(len(df))"
   ]
  },
  {
   "cell_type": "code",
   "execution_count": 7,
   "id": "a8e8c666-3d54-4931-8283-73ce241fffff",
   "metadata": {},
   "outputs": [
    {
     "data": {
      "text/plain": [
       "<bound method NDFrame.head of          s_mt      s_mq         d       h_p           QW           DP\n",
       "0    1.409218  1.954108  2.867735  7.811623  1504.175621   501.563016\n",
       "1    1.382565  2.006212  1.545090  8.124248  1240.530500   377.163158\n",
       "2    1.622445  1.386172  1.192385  7.354709  1385.191155   457.404772\n",
       "3    1.786172  1.591984  2.350701  4.324649  1602.841975  1429.795145\n",
       "4    1.995591  2.024449  1.208417  6.993988  1326.290979   514.009143\n",
       "..        ...       ...       ...       ...          ...          ...\n",
       "495  0.994188  0.898998  1.276553  7.450902  1372.713745   427.058560\n",
       "496  2.067936  1.094389  2.198397  4.396794  1485.744424  1201.422759\n",
       "497  1.847094  1.287174  2.134269  9.939880  1573.955147   344.570374\n",
       "498  1.458717  1.057916  1.044088  9.110220  1090.437833   314.558218\n",
       "499  0.811423  1.146493  2.106212  6.513026  1646.376404   671.620077\n",
       "\n",
       "[500 rows x 6 columns]>"
      ]
     },
     "execution_count": 7,
     "metadata": {},
     "output_type": "execute_result"
    }
   ],
   "source": [
    "# checking length of dataset after filtering data based on range of variation\n",
    "df.head"
   ]
  },
  {
   "cell_type": "code",
   "execution_count": 8,
   "id": "f647fbc0-f94d-4ffb-9b99-860c1924ff1b",
   "metadata": {},
   "outputs": [
    {
     "data": {
      "text/html": [
       "<div>\n",
       "<style scoped>\n",
       "    .dataframe tbody tr th:only-of-type {\n",
       "        vertical-align: middle;\n",
       "    }\n",
       "\n",
       "    .dataframe tbody tr th {\n",
       "        vertical-align: top;\n",
       "    }\n",
       "\n",
       "    .dataframe thead th {\n",
       "        text-align: right;\n",
       "    }\n",
       "</style>\n",
       "<table border=\"1\" class=\"dataframe\">\n",
       "  <thead>\n",
       "    <tr style=\"text-align: right;\">\n",
       "      <th></th>\n",
       "      <th>s_mt</th>\n",
       "      <th>s_mq</th>\n",
       "      <th>d</th>\n",
       "      <th>h_p</th>\n",
       "      <th>QW</th>\n",
       "      <th>DP</th>\n",
       "    </tr>\n",
       "  </thead>\n",
       "  <tbody>\n",
       "    <tr>\n",
       "      <th>s_mt</th>\n",
       "      <td>1.000000</td>\n",
       "      <td>0.002774</td>\n",
       "      <td>-0.002534</td>\n",
       "      <td>0.002058</td>\n",
       "      <td>-0.018162</td>\n",
       "      <td>-0.005937</td>\n",
       "    </tr>\n",
       "    <tr>\n",
       "      <th>s_mq</th>\n",
       "      <td>0.002774</td>\n",
       "      <td>1.000000</td>\n",
       "      <td>0.003271</td>\n",
       "      <td>0.002259</td>\n",
       "      <td>-0.028739</td>\n",
       "      <td>-0.007786</td>\n",
       "    </tr>\n",
       "    <tr>\n",
       "      <th>d</th>\n",
       "      <td>-0.002534</td>\n",
       "      <td>0.003271</td>\n",
       "      <td>1.000000</td>\n",
       "      <td>-0.003678</td>\n",
       "      <td>0.449105</td>\n",
       "      <td>0.189363</td>\n",
       "    </tr>\n",
       "    <tr>\n",
       "      <th>h_p</th>\n",
       "      <td>0.002058</td>\n",
       "      <td>0.002259</td>\n",
       "      <td>-0.003678</td>\n",
       "      <td>1.000000</td>\n",
       "      <td>-0.632678</td>\n",
       "      <td>-0.898030</td>\n",
       "    </tr>\n",
       "    <tr>\n",
       "      <th>QW</th>\n",
       "      <td>-0.018162</td>\n",
       "      <td>-0.028739</td>\n",
       "      <td>0.449105</td>\n",
       "      <td>-0.632678</td>\n",
       "      <td>1.000000</td>\n",
       "      <td>0.743292</td>\n",
       "    </tr>\n",
       "    <tr>\n",
       "      <th>DP</th>\n",
       "      <td>-0.005937</td>\n",
       "      <td>-0.007786</td>\n",
       "      <td>0.189363</td>\n",
       "      <td>-0.898030</td>\n",
       "      <td>0.743292</td>\n",
       "      <td>1.000000</td>\n",
       "    </tr>\n",
       "  </tbody>\n",
       "</table>\n",
       "</div>"
      ],
      "text/plain": [
       "          s_mt      s_mq         d       h_p        QW        DP\n",
       "s_mt  1.000000  0.002774 -0.002534  0.002058 -0.018162 -0.005937\n",
       "s_mq  0.002774  1.000000  0.003271  0.002259 -0.028739 -0.007786\n",
       "d    -0.002534  0.003271  1.000000 -0.003678  0.449105  0.189363\n",
       "h_p   0.002058  0.002259 -0.003678  1.000000 -0.632678 -0.898030\n",
       "QW   -0.018162 -0.028739  0.449105 -0.632678  1.000000  0.743292\n",
       "DP   -0.005937 -0.007786  0.189363 -0.898030  0.743292  1.000000"
      ]
     },
     "execution_count": 8,
     "metadata": {},
     "output_type": "execute_result"
    }
   ],
   "source": [
    "df.corr()"
   ]
  },
  {
   "cell_type": "code",
   "execution_count": 9,
   "id": "510fd29c-a9bf-4a7d-bd5d-65fb955f5de5",
   "metadata": {},
   "outputs": [],
   "source": [
    "# custom dataset for splitting between train and test batches\n",
    "class CustomDataset(torch.utils.data.Dataset):\n",
    "    def __init__(self, data: pd.DataFrame, transfrom = None):\n",
    "        self.data: pd.DataFrame = data\n",
    "        self.transform = transfrom\n",
    "\n",
    "    def __getitem__(self, index):\n",
    "        # batches if input feachures\n",
    "        x = np.asarray(self.data[\n",
    "                           [el for el in self.data.columns[:-2]\n",
    "                       ]].iloc[index], \n",
    "                       dtype=np.float32\n",
    "                      )\n",
    "        # objects vars to fit\n",
    "        y = np.asarray(self.data[\n",
    "                           [el for el in self.data.columns[-2:]]\n",
    "                       ].iloc[index], \n",
    "                       dtype=np.float32\n",
    "                      )\n",
    "        return x,y\n",
    "        \n",
    "    def __len__(self):\n",
    "        return len(self.data)        "
   ]
  },
  {
   "cell_type": "code",
   "execution_count": 10,
   "id": "6044b832-88bb-49f9-8ced-ad03361258a1",
   "metadata": {},
   "outputs": [],
   "source": [
    "# config\n",
    "batch_size = 32\n",
    "validation_split = .3\n",
    "shuffle_dataset = True\n",
    "random_seed = 42\n",
    "n_epochs = 250\n",
    "input_channels = 4\n",
    "output_channels = 2\n",
    "learning_rate = 0.001"
   ]
  },
  {
   "cell_type": "code",
   "execution_count": 11,
   "id": "ece2f372-9c78-4a71-987f-265c9b9f672d",
   "metadata": {},
   "outputs": [
    {
     "name": "stdout",
     "output_type": "stream",
     "text": [
      "train index number - 350\n",
      "validation index number - 150\n"
     ]
    }
   ],
   "source": [
    "# preparing dataset\n",
    "dataset = CustomDataset(df)\n",
    "dataset_size = len(dataset)\n",
    "indices = list(range(dataset_size))\n",
    "split = int(np.floor(validation_split * dataset_size))\n",
    "if shuffle_dataset :\n",
    "    np.random.seed(random_seed)\n",
    "    np.random.shuffle(indices)\n",
    "train_indices, val_indices = indices[split:], indices[:split]\n",
    "print(f\"train index number - {len(train_indices)}\")\n",
    "print(f\"validation index number - {len(val_indices)}\")"
   ]
  },
  {
   "cell_type": "code",
   "execution_count": 12,
   "id": "64f392c1-0c54-43d6-9bfc-736a09e24bad",
   "metadata": {},
   "outputs": [],
   "source": [
    "# creating data loaders\n",
    "train_sampler = SubsetRandomSampler(train_indices)\n",
    "valid_sampler = SubsetRandomSampler(val_indices)\n",
    "train_loader = torch.utils.data.DataLoader(dataset, batch_size=batch_size, \n",
    "                                           sampler=train_sampler)\n",
    "validation_loader = torch.utils.data.DataLoader(dataset, batch_size=batch_size,\n",
    "                                                sampler=valid_sampler)"
   ]
  },
  {
   "cell_type": "code",
   "execution_count": 13,
   "id": "6719e9f8-1ff2-4845-a147-88f2c5743b17",
   "metadata": {},
   "outputs": [
    {
     "name": "stdout",
     "output_type": "stream",
     "text": [
      "[Parameter containing:\n",
      "tensor([[-0.0854,  0.0528, -0.2552,  0.4466],\n",
      "        [ 0.1616,  0.3012,  0.4734, -0.1528],\n",
      "        [-0.0595, -0.4073,  0.4992,  0.4237],\n",
      "        [-0.3926, -0.4390,  0.4309,  0.3943],\n",
      "        [-0.2282, -0.0234, -0.3419,  0.1245],\n",
      "        [-0.2244,  0.4984,  0.2999,  0.3531],\n",
      "        [-0.4615, -0.1195, -0.0888, -0.2908],\n",
      "        [-0.0244,  0.1853, -0.4011,  0.3753],\n",
      "        [ 0.0144,  0.4683,  0.4366,  0.4667],\n",
      "        [ 0.2174, -0.3831, -0.2521,  0.2511],\n",
      "        [-0.4942, -0.1906,  0.4880,  0.2480],\n",
      "        [ 0.1138,  0.2568,  0.2350, -0.2328],\n",
      "        [ 0.1555, -0.4411,  0.4918, -0.4484],\n",
      "        [-0.0688,  0.0546,  0.1814,  0.2215],\n",
      "        [ 0.4623,  0.3519,  0.4560,  0.4171],\n",
      "        [ 0.3194, -0.1857, -0.3311,  0.0272],\n",
      "        [ 0.0245, -0.3972,  0.1968, -0.1674],\n",
      "        [-0.4681, -0.0718, -0.3917,  0.1321],\n",
      "        [ 0.1014,  0.0094,  0.4258, -0.4168],\n",
      "        [-0.3457,  0.0007,  0.4139, -0.2031],\n",
      "        [-0.3168, -0.4480,  0.1227, -0.2950],\n",
      "        [ 0.1051, -0.3303,  0.2449, -0.4776],\n",
      "        [-0.1223, -0.0770, -0.0081,  0.0514],\n",
      "        [-0.3102,  0.4444, -0.4693,  0.4784]], device='cuda:0',\n",
      "       requires_grad=True), Parameter containing:\n",
      "tensor([ 0.0671, -0.2870,  0.2783, -0.1708,  0.1517, -0.3614,  0.0095, -0.3343,\n",
      "         0.3797,  0.1941,  0.0302,  0.2986,  0.2373, -0.4112, -0.1580,  0.3771,\n",
      "         0.1214, -0.2534,  0.4477,  0.2773, -0.3679,  0.1074, -0.0784,  0.1446],\n",
      "       device='cuda:0', requires_grad=True), Parameter containing:\n",
      "tensor([[-0.0258,  0.1004, -0.0537,  ..., -0.1049,  0.0930,  0.1099],\n",
      "        [-0.0037, -0.1108, -0.0585,  ...,  0.1205, -0.0386, -0.0577],\n",
      "        [-0.0803,  0.0712, -0.0927,  ...,  0.0917, -0.0063,  0.0725],\n",
      "        ...,\n",
      "        [ 0.1288,  0.1317, -0.1617,  ..., -0.0373, -0.0631,  0.0541],\n",
      "        [ 0.0165,  0.1019, -0.1221,  ...,  0.0999, -0.1858,  0.1818],\n",
      "        [-0.1031, -0.1220, -0.0037,  ..., -0.0878,  0.1943, -0.1470]],\n",
      "       device='cuda:0', requires_grad=True), Parameter containing:\n",
      "tensor([-0.0917,  0.1223,  0.1353, -0.0436, -0.1755, -0.1833, -0.0149,  0.1117,\n",
      "         0.1351, -0.1157,  0.1022,  0.1355, -0.1156,  0.0754, -0.0934, -0.1841,\n",
      "         0.1163,  0.0980, -0.0885,  0.1992,  0.0667,  0.0475, -0.0860,  0.0021,\n",
      "        -0.0319, -0.0108, -0.1568,  0.0338, -0.0185, -0.0419,  0.0542,  0.1301,\n",
      "         0.1170,  0.0123, -0.1520, -0.1088,  0.0048, -0.0501, -0.0694, -0.1266,\n",
      "        -0.0554, -0.1081, -0.0619,  0.1321,  0.0576, -0.2001, -0.0767, -0.0513,\n",
      "        -0.0562, -0.1621, -0.0051,  0.1278,  0.0649, -0.1539, -0.1746, -0.0562,\n",
      "         0.0820, -0.1400,  0.1279,  0.1624,  0.2016,  0.1054,  0.2004, -0.0761],\n",
      "       device='cuda:0', requires_grad=True), Parameter containing:\n",
      "tensor([[ 0.0793, -0.1032,  0.0290,  0.0537,  0.0976,  0.0093, -0.0495,  0.0427,\n",
      "          0.0887,  0.1233,  0.0183,  0.0334,  0.0590, -0.0598, -0.0776,  0.0233,\n",
      "         -0.0244,  0.0625,  0.0036,  0.0263,  0.0985, -0.0136, -0.1131, -0.0510,\n",
      "          0.0149, -0.0052, -0.0241,  0.0038, -0.0512, -0.0211, -0.0176, -0.1124,\n",
      "         -0.0672,  0.0756, -0.0929,  0.0207,  0.0828, -0.1162, -0.0776,  0.1053,\n",
      "         -0.1056,  0.0009, -0.0760,  0.0726,  0.0689,  0.0689,  0.0668, -0.0939,\n",
      "          0.1209, -0.1218, -0.1121, -0.0631,  0.0303,  0.0384, -0.0989,  0.0944,\n",
      "         -0.1163,  0.0680, -0.1055,  0.1120, -0.0316, -0.1138, -0.0230, -0.1055],\n",
      "        [-0.0543, -0.0770, -0.1056,  0.1180,  0.1118,  0.0225,  0.0821,  0.1179,\n",
      "          0.1186,  0.0516, -0.1132,  0.0711, -0.0230,  0.0214,  0.0231, -0.0698,\n",
      "          0.0124,  0.1049,  0.0552,  0.0402, -0.0244, -0.1094,  0.0437, -0.0395,\n",
      "         -0.0049, -0.0753,  0.0619, -0.1111, -0.0131,  0.0974,  0.0298,  0.0282,\n",
      "          0.0789, -0.0579,  0.0120,  0.0877,  0.0625, -0.0050, -0.0520,  0.0276,\n",
      "          0.0092,  0.1086, -0.0554, -0.0138, -0.0787, -0.1247,  0.0626, -0.0668,\n",
      "         -0.1108, -0.0272,  0.0559, -0.0273,  0.1064, -0.0919,  0.0820,  0.0964,\n",
      "         -0.0433, -0.0436, -0.1021, -0.1055,  0.0172, -0.0145,  0.0494, -0.1128]],\n",
      "       device='cuda:0', requires_grad=True), Parameter containing:\n",
      "tensor([-0.0082,  0.0034], device='cuda:0', requires_grad=True)]\n"
     ]
    }
   ],
   "source": [
    "# base regression model\n",
    "class BaseModel(nn.Module):\n",
    "    def __init__(self, input_channels: int, output_channels: int):\n",
    "        super().__init__()\n",
    "        self.name = \"base_model\"\n",
    "        self.linear1 = nn.Linear(input_channels,output_channels)\n",
    "\n",
    "    def forward(self, x):\n",
    "        out = self.linear1(x)\n",
    "        return out\n",
    "\n",
    "class FullLinearModel(nn.Module):\n",
    "    def __init__(self, input_channels: int, output_channels: int):\n",
    "        super().__init__()\n",
    "        self.linear1 = nn.Linear(input_channels,24)\n",
    "        self.linear2 = nn.Linear(24,64)\n",
    "        self.linear3 = nn.Linear(64,output_channels)\n",
    "        self.name = \"full_linear_model\"\n",
    "\n",
    "    def forward(self, x):\n",
    "        out = self.linear1(x)\n",
    "        out = self.linear2(out)\n",
    "        out = self.linear3(out)\n",
    "        return out\n",
    "\n",
    "class ReluLinearModel(nn.Module):\n",
    "    def __init__(self, input_channels: int, output_channels: int):\n",
    "        super().__init__()\n",
    "        self.name = \"relu_linear_model\"\n",
    "        self.linear1 = nn.Linear(input_channels,24)\n",
    "        self.relu1 = nn.ReLU()\n",
    "        self.linear2 = nn.Linear(24,64)\n",
    "        self.relu2 = nn.ReLU()\n",
    "        self.linear3 = nn.Linear(64,output_channels)\n",
    "\n",
    "    def forward(self, x):\n",
    "        out = self.linear1(x)\n",
    "        out = self.relu1(out)\n",
    "        out = self.linear2(out)\n",
    "        out = self.relu2(out)\n",
    "        out = self.linear3(out)\n",
    "        return out\n",
    "\n",
    "\n",
    "def model_factory_method(model_name) -> BaseModel:\n",
    "    if model_name == \"base\":\n",
    "        return BaseModel(input_channels, output_channels).to(device)\n",
    "    if model_name == \"linear\":\n",
    "        return FullLinearModel(input_channels, output_channels).to(device)\n",
    "    if model_name == \"relu\":\n",
    "        return ReluLinearModel(input_channels, output_channels).to(device)\n",
    "    \n",
    "\n",
    "model = model_factory_method(\"relu\")\n",
    "print(list(model.parameters()))"
   ]
  },
  {
   "cell_type": "code",
   "execution_count": 14,
   "id": "01b825ee-4440-4d66-9483-12000a76dad5",
   "metadata": {},
   "outputs": [],
   "source": [
    "class R2Loss(nn.Module):\n",
    "    def __init__(self):\n",
    "        def forward(self, y_pred, y):\n",
    "            var_y = torch.var(y, unbiased=False)\n",
    "            return 1.0 - torch.nn.functional.mse_loss(y_pred, y, reduction=\"mean\") / var_y\n",
    "    "
   ]
  },
  {
   "cell_type": "code",
   "execution_count": 15,
   "id": "8540474f-3236-4c8a-84ac-05a86fdc1dae",
   "metadata": {},
   "outputs": [],
   "source": [
    "optimizer = optim.SGD(model.parameters(), lr=learning_rate)\n",
    "loss_fn = r2_loss"
   ]
  },
  {
   "cell_type": "code",
   "execution_count": 16,
   "id": "b6a5517f-bb40-481a-a0cd-f8b45f5f5f1d",
   "metadata": {},
   "outputs": [
    {
     "data": {
      "text/plain": [
       "'./runs/SGD/r2_score/'"
      ]
     },
     "execution_count": 16,
     "metadata": {},
     "output_type": "execute_result"
    }
   ],
   "source": [
    "def create_save_path(optimizer, loss_fn, model):\n",
    "    optimizer_name = optimizer.__class__.__name__\n",
    "    if loss_fn.__class__.__name__ == \"function\":\n",
    "        loss_fn_name = \"r2_score\"\n",
    "    else:\n",
    "        loss_fn_name = loss_fn.__class__.__name__\n",
    "    return f\"./runs/{optimizer_name}/{loss_fn_name}/\"\n",
    "\n",
    "create_save_path(optimizer, loss_fn, model)"
   ]
  },
  {
   "cell_type": "code",
   "execution_count": 17,
   "id": "97d25630-d4bd-486e-921e-800a4e4887a5",
   "metadata": {},
   "outputs": [],
   "source": [
    "# class to fit model and save results\n",
    "class FitModel():\n",
    "    def __init__(self, \n",
    "                 n_epochs: int, \n",
    "                 model: nn.Module, \n",
    "                 train_load: torch.utils.data.DataLoader,\n",
    "                 loss_fn,\n",
    "                 optimizer,\n",
    "                 save_path: pathlib.Path\n",
    "                ):\n",
    "        self.n_epochs: int = n_epochs\n",
    "        self.model: nn.Module = model\n",
    "        self.train_loader: torch.utils.data.DataLoader = train_loader\n",
    "        self.loss_fn = loss_fn\n",
    "        self.loss_history: list = list()\n",
    "        self.r2_score_history: list = list()\n",
    "        self.save_path, self.writer = self.setup(save_path)\n",
    "        \n",
    "\n",
    "    def fit(self):\n",
    "        # Train: \n",
    "        for epoch in range(self.n_epochs):\n",
    "            for batch_index, (X_batch, y_batch) in enumerate(train_loader):\n",
    "                y_pred = model(X_batch.to(device)).to(device)\n",
    "                loss = abs(1-loss_fn(y_pred, y_batch.to(device)))\n",
    "                # loss = 1-loss_fn(y_pred, y_batch.to(device))\n",
    "                optimizer.zero_grad()\n",
    "                loss.backward()\n",
    "                optimizer.step()\n",
    "            self.writer.add_scalar(\"Loss/train\", loss, epoch)\n",
    "            self.save_loss(copy(loss))\n",
    "            r2 = self.calc_r2_score(y_batch.to(device), y_pred, epoch)\n",
    "        self.save_weights()\n",
    "        \n",
    "    def setup(self, save_path: pathlib.Path) -> Tuple[pathlib.Path, SummaryWriter]:\n",
    "        if not save_path.is_dir():\n",
    "            save_path.mkdir(parents=True)\n",
    "        t = time.localtime()\n",
    "        current_time = time.strftime(\"%H_%M_%S\", t)\n",
    "        new_save_path = save_path.as_posix() + f\"_{model.name}_{current_time}.pth\"\n",
    "        writer = SummaryWriter(save_path.as_posix())\n",
    "        return pathlib.Path(new_save_path), writer\n",
    "        \n",
    "    \n",
    "    def save_weights(self) -> None:    \n",
    "        torch.save(self.model.state_dict(), self.save_path)\n",
    "        \n",
    "    \n",
    "    def save_loss(self, loss):\n",
    "        self.loss_history.append(loss.item())\n",
    "\n",
    "    def calc_r2_score(self, y_pred: torch.Tensor, target: torch.Tensor, epoch: int):\n",
    "        r2 = r2_score(y_pred, target)\n",
    "        self.r2_score_history.append(r2.cpu().detach().numpy())\n",
    "        self.writer.add_scalar(\"R2_score/train\", r2, epoch)\n",
    "        return r2"
   ]
  },
  {
   "cell_type": "code",
   "execution_count": 18,
   "id": "955a314f-cc82-4da9-ba11-2914e84b2cb3",
   "metadata": {},
   "outputs": [],
   "source": [
    "save_path = create_save_path(optimizer, loss_fn, model)\n",
    "fit_model = FitModel(n_epochs=n_epochs, model=model, train_load=train_loader, loss_fn=loss_fn, optimizer=optimizer,save_path=pathlib.Path(save_path))\n",
    "fit_model.fit()\n",
    "fit_model.writer.close()"
   ]
  },
  {
   "cell_type": "code",
   "execution_count": 19,
   "id": "5c925a78-f0a4-4ef7-980b-8e66ff6372da",
   "metadata": {},
   "outputs": [
    {
     "data": {
      "image/png": "[encoded data removed]",
      "text/plain": [
       "<Figure size 640x480 with 1 Axes>"
      ]
     },
     "metadata": {},
     "output_type": "display_data"
    },
    {
     "name": "stdout",
     "output_type": "stream",
     "text": [
      "17.459943771362305\n"
     ]
    }
   ],
   "source": [
    "loss_x = fit_model.loss_history\n",
    "x = range(len(loss_x))\n",
    "plt.plot(x, loss_x)\n",
    "plt.title(\"R2 score loss\")\n",
    "plt.grid()\n",
    "plt.show()\n",
    "print(min(loss_x))"
   ]
  },
  {
   "cell_type": "code",
   "execution_count": 20,
   "id": "376b086c-ee32-4636-b7c8-bae6750d0f14",
   "metadata": {},
   "outputs": [
    {
     "data": {
      "image/png": "[encoded data removed]",
      "text/plain": [
       "<Figure size 640x480 with 1 Axes>"
      ]
     },
     "metadata": {},
     "output_type": "display_data"
    }
   ],
   "source": [
    "r2_score = fit_model.r2_score_history\n",
    "x = range(len(r2_score))\n",
    "plt.plot(x, r2_score)\n",
    "plt.title(\"R2 score progression\")\n",
    "plt.grid()\n",
    "plt.show()"
   ]
  },
  {
   "cell_type": "code",
   "execution_count": 21,
   "id": "08eaf03e-05e9-482e-9024-f9bb50c0c8c2",
   "metadata": {},
   "outputs": [
    {
     "name": "stdout",
     "output_type": "stream",
     "text": [
      "tensor([[2.4373, 1.3731, 2.9038, 6.8617],\n",
      "        [0.9980, 1.1126, 1.1764, 6.3206],\n",
      "        [1.3178, 1.1152, 1.0762, 7.4629],\n",
      "        [1.0246, 2.0323, 2.6513, 8.6413],\n",
      "        [2.3421, 2.0792, 2.5351, 8.0160],\n",
      "        [0.9485, 1.9515, 1.2645, 6.2846],\n",
      "        [1.9994, 1.2481, 2.8637, 7.5471],\n",
      "        [2.3649, 1.0631, 1.2204, 4.2405],\n",
      "        [0.9028, 1.3236, 1.7735, 7.3788],\n",
      "        [1.0551, 0.9433, 1.1283, 8.7495],\n",
      "        [2.3345, 1.8655, 1.8457, 9.8798],\n",
      "        [1.8928, 1.5790, 1.9098, 8.8818],\n",
      "        [2.4868, 0.8729, 1.4770, 4.9138],\n",
      "        [2.4639, 2.0479, 2.0741, 7.6914],\n",
      "        [2.1174, 1.5764, 2.2906, 9.4950],\n",
      "        [2.3154, 2.0818, 1.2846, 5.7074],\n",
      "        [1.2683, 1.1856, 1.4689, 5.1062],\n",
      "        [2.4449, 1.3575, 2.4389, 7.2585],\n",
      "        [2.3992, 1.6285, 2.0822, 4.1924],\n",
      "        [1.8890, 1.0866, 2.9760, 5.0341],\n",
      "        [2.5363, 1.1335, 2.3747, 4.6854],\n",
      "        [2.1898, 1.5321, 2.9840, 8.2325],\n",
      "        [2.4906, 1.9958, 2.2385, 5.3828],\n",
      "        [2.3878, 1.1595, 2.9359, 8.1002],\n",
      "        [1.7900, 1.7900, 2.2305, 8.9299],\n",
      "        [1.8585, 2.0583, 1.8577, 6.8257],\n",
      "        [0.8990, 1.7639, 1.2605, 4.7936],\n",
      "        [1.9575, 1.4200, 1.8176, 7.7034],\n",
      "        [1.2455, 1.1100, 2.0902, 5.6834],\n",
      "        [2.2659, 1.4383, 1.5491, 5.7194],\n",
      "        [1.6834, 1.7926, 1.5130, 8.8096],\n",
      "        [2.6467, 1.3080, 1.7896, 6.2244]])\n"
     ]
    }
   ],
   "source": [
    "x_test = [el for el in validation_loader]\n",
    "print(x_test[0][0])"
   ]
  },
  {
   "cell_type": "code",
   "execution_count": 22,
   "id": "645319ef-26d5-492a-8fc8-ce26dcf3e4c3",
   "metadata": {},
   "outputs": [
    {
     "ename": "TypeError",
     "evalue": "'list' object is not callable",
     "output_type": "error",
     "traceback": [
      "\u001b[0;31m---------------------------------------------------------------------------\u001b[0m",
      "\u001b[0;31mTypeError\u001b[0m                                 Traceback (most recent call last)",
      "Cell \u001b[0;32mIn[22], line 4\u001b[0m\n\u001b[1;32m      2\u001b[0m model\u001b[38;5;241m.\u001b[39meval()\n\u001b[1;32m      3\u001b[0m y_pred \u001b[38;5;241m=\u001b[39m model(test[\u001b[38;5;241m0\u001b[39m][\u001b[38;5;241m0\u001b[39m][\u001b[38;5;241m0\u001b[39m]\u001b[38;5;241m.\u001b[39mto(device))\n\u001b[0;32m----> 4\u001b[0m result_metric \u001b[38;5;241m=\u001b[39m \u001b[43mr2_score\u001b[49m\u001b[43m(\u001b[49m\u001b[43my_pred\u001b[49m\u001b[38;5;241;43m.\u001b[39;49m\u001b[43mto\u001b[49m\u001b[43m(\u001b[49m\u001b[43mdevice\u001b[49m\u001b[43m)\u001b[49m\u001b[43m,\u001b[49m\u001b[43m \u001b[49m\u001b[43mtest\u001b[49m\u001b[43m[\u001b[49m\u001b[38;5;241;43m0\u001b[39;49m\u001b[43m]\u001b[49m\u001b[43m[\u001b[49m\u001b[38;5;241;43m1\u001b[39;49m\u001b[43m]\u001b[49m\u001b[43m[\u001b[49m\u001b[38;5;241;43m0\u001b[39;49m\u001b[43m]\u001b[49m\u001b[38;5;241;43m.\u001b[39;49m\u001b[43mto\u001b[49m\u001b[43m(\u001b[49m\u001b[43mdevice\u001b[49m\u001b[43m)\u001b[49m\u001b[43m)\u001b[49m\n\u001b[1;32m      5\u001b[0m \u001b[38;5;28mprint\u001b[39m(result_metric)\n\u001b[1;32m      6\u001b[0m \u001b[38;5;28mprint\u001b[39m(y_pred)\n",
      "\u001b[0;31mTypeError\u001b[0m: 'list' object is not callable"
     ]
    }
   ],
   "source": [
    "test = [el for el in validation_loader]\n",
    "model.eval()\n",
    "y_pred = model(test[0][0][0].to(device))\n",
    "result_metric = r2_score(y_pred.to(device), test[0][1][0].to(device))\n",
    "print(result_metric)\n",
    "print(y_pred)\n",
    "print(test[0][1][0].to(device))\n"
   ]
  },
  {
   "cell_type": "code",
   "execution_count": null,
   "id": "4320e6cd-4126-4e69-baec-f4f541ab9bf9",
   "metadata": {},
   "outputs": [],
   "source": [
    "%load_ext tensorboard\n",
    "%tensorboard --logdir=./runs --load_fast true"
   ]
  },
  {
   "cell_type": "code",
   "execution_count": null,
   "id": "6d6f56cc-5fe4-4fa6-a6ee-25967cf178cd",
   "metadata": {},
   "outputs": [],
   "source": []
  }
 ],
 "metadata": {
  "kernelspec": {
   "display_name": "Poetry",
   "language": "python",
   "name": "poetry-kernel"
  },
  "language_info": {
   "codemirror_mode": {
    "name": "ipython",
    "version": 3
   },
   "file_extension": ".py",
   "mimetype": "text/x-python",
   "name": "python",
   "nbconvert_exporter": "python",
   "pygments_lexer": "ipython3",
   "version": "3.8.10"
  }
 },
 "nbformat": 4,
 "nbformat_minor": 5
}
