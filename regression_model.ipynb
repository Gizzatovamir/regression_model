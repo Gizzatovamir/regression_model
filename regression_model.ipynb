{
 "cells": [
  {
   "cell_type": "code",
   "execution_count": 1,
   "id": "28f9b744-0198-42a2-b0b0-5f0fdaa9a030",
   "metadata": {},
   "outputs": [],
   "source": [
    "import numpy as np\n",
    "import pandas as pd\n",
    "import matplotlib.pyplot as plt\n",
    "import torch\n",
    "import pathlib\n",
    "import seaborn as sns\n",
    "import pathlib\n",
    "# to use r2 as loss function (dont work yet)\n",
    "from torchmetrics.functional import r2_score as r2_loss\n",
    "from torcheval.metrics.functional import r2_score\n",
    "from torch.utils.data.sampler import SubsetRandomSampler\n",
    "import torch.nn as nn\n",
    "import torch.optim as optim\n",
    "import logging\n",
    "from copy import copy"
   ]
  },
  {
   "cell_type": "code",
   "execution_count": 2,
   "id": "ec139866-fc2e-4b2e-9ba6-29ec863f59c6",
   "metadata": {},
   "outputs": [
    {
     "name": "stdout",
     "output_type": "stream",
     "text": [
      "cuda:0\n"
     ]
    }
   ],
   "source": [
    "device = torch.device(\"cuda:0\" if torch.cuda.is_available() else \"cpu\")\n",
    "print(device)"
   ]
  },
  {
   "cell_type": "code",
   "execution_count": 3,
   "id": "428e9b8f-d4ee-491f-86e0-2eab3ac2942e",
   "metadata": {},
   "outputs": [],
   "source": [
    "# read csv and craete pd dataframe\n",
    "csv_path = pathlib.Path(\"./data/2022_Test_ML.csv\")\n",
    "df = pd.read_csv(csv_path)\n",
    "df = df.drop([\"ind\"], axis=1)"
   ]
  },
  {
   "cell_type": "code",
   "execution_count": 4,
   "id": "921fb745-1a7d-41ab-a26c-869073788d31",
   "metadata": {},
   "outputs": [
    {
     "data": {
      "text/plain": [
       "<bound method NDFrame.head of          s_mt      s_mq         d       h_p           QW           DP\n",
       "0    1.409218  1.954108  2.867735  7.811623  1504.175621   501.563016\n",
       "1    1.382565  2.006212  1.545090  8.124248  1240.530500   377.163158\n",
       "2    1.622445  1.386172  1.192385  7.354709  1385.191155   457.404772\n",
       "3    1.786172  1.591984  2.350701  4.324649  1602.841975  1429.795145\n",
       "4    1.995591  2.024449  1.208417  6.993988  1326.290979   514.009143\n",
       "..        ...       ...       ...       ...          ...          ...\n",
       "495  0.994188  0.898998  1.276553  7.450902  1372.713745   427.058560\n",
       "496  2.067936  1.094389  2.198397  4.396794  1485.744424  1201.422759\n",
       "497  1.847094  1.287174  2.134269  9.939880  1573.955147   344.570374\n",
       "498  1.458717  1.057916  1.044088  9.110220  1090.437833   314.558218\n",
       "499  0.811423  1.146493  2.106212  6.513026  1646.376404   671.620077\n",
       "\n",
       "[500 rows x 6 columns]>"
      ]
     },
     "execution_count": 4,
     "metadata": {},
     "output_type": "execute_result"
    }
   ],
   "source": [
    "df.head"
   ]
  },
  {
   "cell_type": "code",
   "execution_count": 5,
   "id": "85dd4f21-1494-4702-82b9-62df3cb74d8a",
   "metadata": {},
   "outputs": [],
   "source": [
    "ranges_dict: dict = {\n",
    "    \"s_mt\": {\n",
    "        \"max\": 2.7,\n",
    "        \"min\": 0.8\n",
    "    },\n",
    "    \"s_mq\": {\n",
    "        \"max\": 2.1,\n",
    "        \"min\": 0.8\n",
    "    },\n",
    "    \"d\": {\n",
    "        \"max\": 3.0,\n",
    "        \"min\": 1.0\n",
    "    },\n",
    "    \"h_p\": {\n",
    "        \"max\": 10.0,\n",
    "        \"min\": 4.0\n",
    "    }\n",
    "}\n",
    "def filter_df(df:pd.DataFrame, input_variation_range: dict, column_name: str) -> pd.DataFrame:\n",
    "    return df[(df[column_name] >= input_variation_range[\"min\"]) & (df[column_name] <= input_variation_range[\"max\"])]    \n",
    "    "
   ]
  },
  {
   "cell_type": "code",
   "execution_count": 6,
   "id": "4a204895-1ac5-4eb8-afe7-02d5d72d24f2",
   "metadata": {},
   "outputs": [
    {
     "name": "stdout",
     "output_type": "stream",
     "text": [
      "500\n",
      "500\n",
      "500\n",
      "500\n"
     ]
    }
   ],
   "source": [
    "# checking if all features are in the range\n",
    "featueres = [\"s_mt\", \"s_mq\", \"d\", \"h_p\"]\n",
    "for feature in featueres:\n",
    "    df = filter_df(df, ranges_dict.get(feature), feature)\n",
    "    print(len(df))"
   ]
  },
  {
   "cell_type": "code",
   "execution_count": 7,
   "id": "a8e8c666-3d54-4931-8283-73ce241fffff",
   "metadata": {},
   "outputs": [
    {
     "data": {
      "text/plain": [
       "<bound method NDFrame.head of          s_mt      s_mq         d       h_p           QW           DP\n",
       "0    1.409218  1.954108  2.867735  7.811623  1504.175621   501.563016\n",
       "1    1.382565  2.006212  1.545090  8.124248  1240.530500   377.163158\n",
       "2    1.622445  1.386172  1.192385  7.354709  1385.191155   457.404772\n",
       "3    1.786172  1.591984  2.350701  4.324649  1602.841975  1429.795145\n",
       "4    1.995591  2.024449  1.208417  6.993988  1326.290979   514.009143\n",
       "..        ...       ...       ...       ...          ...          ...\n",
       "495  0.994188  0.898998  1.276553  7.450902  1372.713745   427.058560\n",
       "496  2.067936  1.094389  2.198397  4.396794  1485.744424  1201.422759\n",
       "497  1.847094  1.287174  2.134269  9.939880  1573.955147   344.570374\n",
       "498  1.458717  1.057916  1.044088  9.110220  1090.437833   314.558218\n",
       "499  0.811423  1.146493  2.106212  6.513026  1646.376404   671.620077\n",
       "\n",
       "[500 rows x 6 columns]>"
      ]
     },
     "execution_count": 7,
     "metadata": {},
     "output_type": "execute_result"
    }
   ],
   "source": [
    "# \n",
    "df.head"
   ]
  },
  {
   "cell_type": "code",
   "execution_count": 8,
   "id": "f647fbc0-f94d-4ffb-9b99-860c1924ff1b",
   "metadata": {},
   "outputs": [
    {
     "data": {
      "text/html": [
       "<div>\n",
       "<style scoped>\n",
       "    .dataframe tbody tr th:only-of-type {\n",
       "        vertical-align: middle;\n",
       "    }\n",
       "\n",
       "    .dataframe tbody tr th {\n",
       "        vertical-align: top;\n",
       "    }\n",
       "\n",
       "    .dataframe thead th {\n",
       "        text-align: right;\n",
       "    }\n",
       "</style>\n",
       "<table border=\"1\" class=\"dataframe\">\n",
       "  <thead>\n",
       "    <tr style=\"text-align: right;\">\n",
       "      <th></th>\n",
       "      <th>s_mt</th>\n",
       "      <th>s_mq</th>\n",
       "      <th>d</th>\n",
       "      <th>h_p</th>\n",
       "      <th>QW</th>\n",
       "      <th>DP</th>\n",
       "    </tr>\n",
       "  </thead>\n",
       "  <tbody>\n",
       "    <tr>\n",
       "      <th>s_mt</th>\n",
       "      <td>1.000000</td>\n",
       "      <td>0.002774</td>\n",
       "      <td>-0.002534</td>\n",
       "      <td>0.002058</td>\n",
       "      <td>-0.018162</td>\n",
       "      <td>-0.005937</td>\n",
       "    </tr>\n",
       "    <tr>\n",
       "      <th>s_mq</th>\n",
       "      <td>0.002774</td>\n",
       "      <td>1.000000</td>\n",
       "      <td>0.003271</td>\n",
       "      <td>0.002259</td>\n",
       "      <td>-0.028739</td>\n",
       "      <td>-0.007786</td>\n",
       "    </tr>\n",
       "    <tr>\n",
       "      <th>d</th>\n",
       "      <td>-0.002534</td>\n",
       "      <td>0.003271</td>\n",
       "      <td>1.000000</td>\n",
       "      <td>-0.003678</td>\n",
       "      <td>0.449105</td>\n",
       "      <td>0.189363</td>\n",
       "    </tr>\n",
       "    <tr>\n",
       "      <th>h_p</th>\n",
       "      <td>0.002058</td>\n",
       "      <td>0.002259</td>\n",
       "      <td>-0.003678</td>\n",
       "      <td>1.000000</td>\n",
       "      <td>-0.632678</td>\n",
       "      <td>-0.898030</td>\n",
       "    </tr>\n",
       "    <tr>\n",
       "      <th>QW</th>\n",
       "      <td>-0.018162</td>\n",
       "      <td>-0.028739</td>\n",
       "      <td>0.449105</td>\n",
       "      <td>-0.632678</td>\n",
       "      <td>1.000000</td>\n",
       "      <td>0.743292</td>\n",
       "    </tr>\n",
       "    <tr>\n",
       "      <th>DP</th>\n",
       "      <td>-0.005937</td>\n",
       "      <td>-0.007786</td>\n",
       "      <td>0.189363</td>\n",
       "      <td>-0.898030</td>\n",
       "      <td>0.743292</td>\n",
       "      <td>1.000000</td>\n",
       "    </tr>\n",
       "  </tbody>\n",
       "</table>\n",
       "</div>"
      ],
      "text/plain": [
       "          s_mt      s_mq         d       h_p        QW        DP\n",
       "s_mt  1.000000  0.002774 -0.002534  0.002058 -0.018162 -0.005937\n",
       "s_mq  0.002774  1.000000  0.003271  0.002259 -0.028739 -0.007786\n",
       "d    -0.002534  0.003271  1.000000 -0.003678  0.449105  0.189363\n",
       "h_p   0.002058  0.002259 -0.003678  1.000000 -0.632678 -0.898030\n",
       "QW   -0.018162 -0.028739  0.449105 -0.632678  1.000000  0.743292\n",
       "DP   -0.005937 -0.007786  0.189363 -0.898030  0.743292  1.000000"
      ]
     },
     "execution_count": 8,
     "metadata": {},
     "output_type": "execute_result"
    }
   ],
   "source": [
    "df.corr()"
   ]
  },
  {
   "cell_type": "code",
   "execution_count": 9,
   "id": "01edaa90-f9b4-4b87-a5a3-b5dbb06ec201",
   "metadata": {},
   "outputs": [
    {
     "name": "stdout",
     "output_type": "stream",
     "text": [
      "[1, 2, 3, 4]\n",
      "[5, 6]\n"
     ]
    }
   ],
   "source": [
    "a = [1,2,3,4,5,6]\n",
    "print(a[:-2])\n",
    "print(a[-2:])"
   ]
  },
  {
   "cell_type": "code",
   "execution_count": 10,
   "id": "510fd29c-a9bf-4a7d-bd5d-65fb955f5de5",
   "metadata": {},
   "outputs": [],
   "source": [
    "# custom dataset for splitting between train and test batches\n",
    "class CustomDataset(torch.utils.data.Dataset):\n",
    "    def __init__(self, data: pd.DataFrame, transfrom = None):\n",
    "        self.data: pd.DataFrame = data\n",
    "        self.transform = transfrom\n",
    "\n",
    "    def __getitem__(self, index):\n",
    "        # batches if input feachures\n",
    "        x = np.asarray(self.data[[el for el in self.data.columns[:-2]]].iloc[index], dtype=np.float32)\n",
    "        # objects vars to fit\n",
    "        y = np.asarray(self.data[[el for el in self.data.columns[-2:]]].iloc[index], dtype=np.float32)\n",
    "        return x,y\n",
    "        \n",
    "    def __len__(self):\n",
    "        return len(self.data)        "
   ]
  },
  {
   "cell_type": "code",
   "execution_count": 11,
   "id": "6044b832-88bb-49f9-8ced-ad03361258a1",
   "metadata": {},
   "outputs": [],
   "source": [
    "# config\n",
    "batch_size = 32\n",
    "validation_split = .25\n",
    "shuffle_dataset = True\n",
    "# random_seed = 42\n",
    "n_epochs = 1000\n",
    "input_channels = 4\n",
    "output_channels = 2\n",
    "learning_rate = 0.001"
   ]
  },
  {
   "cell_type": "code",
   "execution_count": 12,
   "id": "ece2f372-9c78-4a71-987f-265c9b9f672d",
   "metadata": {},
   "outputs": [
    {
     "name": "stdout",
     "output_type": "stream",
     "text": [
      "125\n",
      "375\n",
      "125\n"
     ]
    }
   ],
   "source": [
    "# preparing dataset\n",
    "dataset = CustomDataset(df)\n",
    "dataset_size = len(dataset)\n",
    "indices = list(range(dataset_size))\n",
    "split = int(np.floor(validation_split * dataset_size))\n",
    "print(split)\n",
    "if shuffle_dataset :\n",
    "    # np.random.seed(random_seed)\n",
    "    np.random.shuffle(indices)\n",
    "train_indices, val_indices = indices[split:], indices[:split]\n",
    "print(len(train_indices))\n",
    "print(len(val_indices))"
   ]
  },
  {
   "cell_type": "code",
   "execution_count": 13,
   "id": "64f392c1-0c54-43d6-9bfc-736a09e24bad",
   "metadata": {},
   "outputs": [],
   "source": [
    "# creating data loaders\n",
    "train_sampler = SubsetRandomSampler(train_indices)\n",
    "valid_sampler = SubsetRandomSampler(val_indices)\n",
    "train_loader = torch.utils.data.DataLoader(dataset, batch_size=batch_size, \n",
    "                                           sampler=train_sampler)\n",
    "validation_loader = torch.utils.data.DataLoader(dataset, batch_size=batch_size,\n",
    "                                                sampler=valid_sampler)"
   ]
  },
  {
   "cell_type": "code",
   "execution_count": 14,
   "id": "6719e9f8-1ff2-4845-a147-88f2c5743b17",
   "metadata": {},
   "outputs": [],
   "source": [
    "# base regression model\n",
    "class BaseModel(nn.Module):\n",
    "    def __init__(self, input_channels: int, output_channels: int):\n",
    "        super().__init__()\n",
    "        self.linear1 = nn.Linear(input_channels,24)\n",
    "        self.relu1 = nn.ReLU()\n",
    "        self.linear2 = nn.Linear(24, output_channels)\n",
    "\n",
    "    def forward(self, x):\n",
    "        out = self.linear1(x)\n",
    "        out = self.relu1(out)\n",
    "        out = self.linear2(out)\n",
    "        return out\n",
    "\n",
    "model = BaseModel(input_channels, output_channels).to(device)"
   ]
  },
  {
   "cell_type": "code",
   "execution_count": 15,
   "id": "01b825ee-4440-4d66-9483-12000a76dad5",
   "metadata": {},
   "outputs": [],
   "source": [
    "class R2Loss(nn.Module):\n",
    "    def __init__(self):\n",
    "        def forward(self, y_pred, y):\n",
    "            var_y = torch.var(y, unbiased=False)\n",
    "            return 1.0 - torch.nn.functional.mse_loss(y_pred, y, reduction=\"mean\") / var_y\n",
    "    "
   ]
  },
  {
   "cell_type": "code",
   "execution_count": 16,
   "id": "8540474f-3236-4c8a-84ac-05a86fdc1dae",
   "metadata": {},
   "outputs": [],
   "source": [
    "optimizer = optim.SGD(model.parameters(), lr=learning_rate)\n",
    "loss_fn = r2_loss"
   ]
  },
  {
   "cell_type": "code",
   "execution_count": 17,
   "id": "97d25630-d4bd-486e-921e-800a4e4887a5",
   "metadata": {},
   "outputs": [],
   "source": [
    "# class to fit model and save results\n",
    "class FitModel():\n",
    "    def __init__(self, \n",
    "                 n_epochs: int, \n",
    "                 model: nn.Module, \n",
    "                 train_load: torch.utils.data.DataLoader,\n",
    "                 loss_fn,\n",
    "                 optimizer,\n",
    "                 logger\n",
    "                ):\n",
    "        self.n_epochs: int = n_epochs\n",
    "        self.model: nn.Module = model\n",
    "        self.train_loader: torch.utils.data.DataLoader = train_loader\n",
    "        self.loss_fn = loss_fn\n",
    "        self.loss_history: list = list()\n",
    "        self.r2_score_history: list = list()\n",
    "        self.logger: logging.Logger = logger\n",
    "        \n",
    "\n",
    "    def fit(self):\n",
    "        # Train: \n",
    "        for epoch in range(self.n_epochs):\n",
    "            for batch_index, (X_batch, y_batch) in enumerate(train_loader):\n",
    "                y_pred = model(X_batch.to(device)).to(device)\n",
    "                loss = abs(loss_fn(y_pred, y_batch.to(device)))\n",
    "                optimizer.zero_grad()\n",
    "                loss.backward()\n",
    "                optimizer.step()\n",
    "            self.save_loss(copy(loss))\n",
    "            r2 = self.calc_r2_score(y_batch.to(device), y_pred)\n",
    "            \n",
    "            self.logger.info(f'iteratiion - {epoch} \\n r2 score - {r2}, loss - {loss.item()}')\n",
    "            \n",
    "    def save_loss(self, loss):\n",
    "        self.loss_history.append(loss.item())\n",
    "\n",
    "    def calc_r2_score(self, y_pred: torch.Tensor, target: torch.Tensor):\n",
    "        r2 = r2_score(y_pred, target)\n",
    "        self.r2_score_history.append(r2.cpu().detach().numpy())\n",
    "        return r2"
   ]
  },
  {
   "cell_type": "code",
   "execution_count": 18,
   "id": "06b740e8-3d7f-4257-8cf1-52dc961076e0",
   "metadata": {},
   "outputs": [],
   "source": [
    "def get_logger():\n",
    "    logger = logging.getLogger(\"base_model\")\n",
    "    return logger"
   ]
  },
  {
   "cell_type": "code",
   "execution_count": 19,
   "id": "955a314f-cc82-4da9-ba11-2914e84b2cb3",
   "metadata": {},
   "outputs": [],
   "source": [
    "logger = get_logger()\n",
    "fit_model = FitModel(n_epochs=n_epochs, model=model, train_load=train_loader, loss_fn=loss_fn, optimizer=optimizer, logger=logger)\n",
    "fit_model.fit()"
   ]
  },
  {
   "cell_type": "code",
   "execution_count": 20,
   "id": "08eaf03e-05e9-482e-9024-f9bb50c0c8c2",
   "metadata": {},
   "outputs": [
    {
     "name": "stdout",
     "output_type": "stream",
     "text": [
      "tensor([[2.6924, 1.5190, 2.1784, 6.5491],\n",
      "        [2.3307, 0.8417, 1.7655, 7.4028],\n",
      "        [2.0679, 1.0944, 2.1984, 4.3968],\n",
      "        [2.1974, 0.8130, 1.4289, 6.0802],\n",
      "        [1.9613, 1.9828, 1.2445, 4.6613],\n",
      "        [2.0299, 1.9854, 2.3587, 4.5411],\n",
      "        [1.9918, 1.5347, 1.2004, 6.1042],\n",
      "        [0.8914, 0.9772, 1.8417, 5.2024],\n",
      "        [2.2202, 1.3497, 2.3347, 6.0200],\n",
      "        [2.6238, 0.9485, 2.7074, 8.4850],\n",
      "        [2.6086, 1.9176, 1.9138, 6.4529],\n",
      "        [0.8381, 1.4800, 2.6313, 8.3768],\n",
      "        [1.4816, 2.0140, 1.7214, 9.4349],\n",
      "        [1.5996, 1.7222, 1.6774, 4.3727],\n",
      "        [2.6886, 1.0319, 1.8778, 7.2946],\n",
      "        [2.0375, 1.3914, 1.0080, 7.4148],\n",
      "        [2.2812, 1.0110, 1.7695, 4.1323],\n",
      "        [0.9104, 1.2168, 1.2405, 7.7275],\n",
      "        [1.7062, 0.8261, 1.6333, 5.7796],\n",
      "        [1.0399, 2.0192, 2.5551, 5.8156],\n",
      "        [2.2469, 1.1074, 2.0942, 7.0782],\n",
      "        [1.3255, 1.3810, 2.4509, 8.7976],\n",
      "        [2.5820, 1.4122, 2.2224, 5.1904],\n",
      "        [1.1389, 1.5816, 2.4589, 9.8437],\n",
      "        [1.9423, 1.6102, 2.2265, 6.1884],\n",
      "        [2.1860, 0.9641, 1.4008, 9.7595],\n",
      "        [1.6224, 1.3862, 1.1924, 7.3547],\n",
      "        [2.5553, 1.4070, 1.2124, 9.2305],\n",
      "        [1.6796, 1.5711, 2.9599, 6.0441],\n",
      "        [1.2303, 1.7196, 1.8617, 5.4549],\n",
      "        [2.4525, 1.8733, 2.4349, 4.2285],\n",
      "        [2.5210, 1.2142, 2.7756, 9.4228]])\n"
     ]
    }
   ],
   "source": [
    "x_test = [el for el in validation_loader]\n",
    "print(x_test[0][0])"
   ]
  },
  {
   "cell_type": "code",
   "execution_count": 21,
   "id": "645319ef-26d5-492a-8fc8-ce26dcf3e4c3",
   "metadata": {},
   "outputs": [
    {
     "name": "stdout",
     "output_type": "stream",
     "text": [
      "tensor(0.8816, device='cuda:0')\n",
      "tensor([1538.0353,  354.5527], device='cuda:0', grad_fn=<ViewBackward0>)\n",
      "tensor([1630.5211,  590.1443], device='cuda:0')\n"
     ]
    }
   ],
   "source": [
    "test = [el for el in validation_loader]\n",
    "model.eval()\n",
    "y_pred = model(test[0][0][0].to(device))\n",
    "result_metric = r2_score(y_pred.to(device), test[0][1][0].to(device))\n",
    "print(result_metric)\n",
    "print(y_pred)\n",
    "print(test[0][1][0].to(device))\n"
   ]
  },
  {
   "cell_type": "code",
   "execution_count": 22,
   "id": "5c925a78-f0a4-4ef7-980b-8e66ff6372da",
   "metadata": {},
   "outputs": [
    {
     "data": {
      "image/png": "[encoded data removed]",
      "text/plain": [
       "<Figure size 640x480 with 1 Axes>"
      ]
     },
     "metadata": {},
     "output_type": "display_data"
    },
    {
     "name": "stdout",
     "output_type": "stream",
     "text": [
      "1.9975396394729614\n"
     ]
    }
   ],
   "source": [
    "loss_x = fit_model.loss_history\n",
    "x = range(len(loss_x))\n",
    "plt.plot(x, loss_x)\n",
    "plt.title(\"R2 score loss\")\n",
    "plt.show()\n",
    "print(min(loss_x))"
   ]
  },
  {
   "cell_type": "code",
   "execution_count": 23,
   "id": "376b086c-ee32-4636-b7c8-bae6750d0f14",
   "metadata": {},
   "outputs": [
    {
     "data": {
      "image/png": "[encoded data removed]",
      "text/plain": [
       "<Figure size 640x480 with 1 Axes>"
      ]
     },
     "metadata": {},
     "output_type": "display_data"
    }
   ],
   "source": [
    "r2_score = fit_model.r2_score_history\n",
    "x = range(len(r2_score))\n",
    "plt.plot(x, r2_score)\n",
    "plt.show()"
   ]
  },
  {
   "cell_type": "code",
   "execution_count": null,
   "id": "4320e6cd-4126-4e69-baec-f4f541ab9bf9",
   "metadata": {},
   "outputs": [],
   "source": []
  }
 ],
 "metadata": {
  "kernelspec": {
   "display_name": "Poetry",
   "language": "python",
   "name": "poetry-kernel"
  },
  "language_info": {
   "codemirror_mode": {
    "name": "ipython",
    "version": 3
   },
   "file_extension": ".py",
   "mimetype": "text/x-python",
   "name": "python",
   "nbconvert_exporter": "python",
   "pygments_lexer": "ipython3",
   "version": "3.8.10"
  }
 },
 "nbformat": 4,
 "nbformat_minor": 5
}
