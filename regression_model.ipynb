{
 "cells": [
  {
   "cell_type": "code",
   "execution_count": 1,
   "id": "28f9b744-0198-42a2-b0b0-5f0fdaa9a030",
   "metadata": {},
   "outputs": [],
   "source": [
    "import numpy as np\n",
    "import pandas as pd\n",
    "import matplotlib.pyplot as plt\n",
    "import torch\n",
    "import pathlib\n",
    "import seaborn as sns\n",
    "import pathlib\n",
    "from torchmetrics.functional import r2_score\n",
    "from torch.utils.data.sampler import SubsetRandomSampler\n",
    "import torch.nn as nn"
   ]
  },
  {
   "cell_type": "code",
   "execution_count": 2,
   "id": "ec139866-fc2e-4b2e-9ba6-29ec863f59c6",
   "metadata": {},
   "outputs": [
    {
     "name": "stdout",
     "output_type": "stream",
     "text": [
      "cuda:0\n"
     ]
    }
   ],
   "source": [
    "device = torch.device(\"cuda:0\" if torch.cuda.is_available() else \"cpu\")\n",
    "print(device)"
   ]
  },
  {
   "cell_type": "code",
   "execution_count": 3,
   "id": "428e9b8f-d4ee-491f-86e0-2eab3ac2942e",
   "metadata": {},
   "outputs": [],
   "source": [
    "csv_path = pathlib.Path(\"./data/2022_Test_ML.csv\")\n",
    "df = pd.read_csv(csv_path)"
   ]
  },
  {
   "cell_type": "code",
   "execution_count": 4,
   "id": "921fb745-1a7d-41ab-a26c-869073788d31",
   "metadata": {},
   "outputs": [
    {
     "data": {
      "text/plain": [
       "<bound method NDFrame.head of      ind      s_mt      s_mq         d       h_p           QW           DP\n",
       "0      0  1.409218  1.954108  2.867735  7.811623  1504.175621   501.563016\n",
       "1      1  1.382565  2.006212  1.545090  8.124248  1240.530500   377.163158\n",
       "2      2  1.622445  1.386172  1.192385  7.354709  1385.191155   457.404772\n",
       "3      3  1.786172  1.591984  2.350701  4.324649  1602.841975  1429.795145\n",
       "4      4  1.995591  2.024449  1.208417  6.993988  1326.290979   514.009143\n",
       "..   ...       ...       ...       ...       ...          ...          ...\n",
       "495  495  0.994188  0.898998  1.276553  7.450902  1372.713745   427.058560\n",
       "496  496  2.067936  1.094389  2.198397  4.396794  1485.744424  1201.422759\n",
       "497  497  1.847094  1.287174  2.134269  9.939880  1573.955147   344.570374\n",
       "498  498  1.458717  1.057916  1.044088  9.110220  1090.437833   314.558218\n",
       "499  499  0.811423  1.146493  2.106212  6.513026  1646.376404   671.620077\n",
       "\n",
       "[500 rows x 7 columns]>"
      ]
     },
     "execution_count": 4,
     "metadata": {},
     "output_type": "execute_result"
    }
   ],
   "source": [
    "df.head"
   ]
  },
  {
   "cell_type": "code",
   "execution_count": 5,
   "id": "f647fbc0-f94d-4ffb-9b99-860c1924ff1b",
   "metadata": {},
   "outputs": [
    {
     "data": {
      "text/html": [
       "<div>\n",
       "<style scoped>\n",
       "    .dataframe tbody tr th:only-of-type {\n",
       "        vertical-align: middle;\n",
       "    }\n",
       "\n",
       "    .dataframe tbody tr th {\n",
       "        vertical-align: top;\n",
       "    }\n",
       "\n",
       "    .dataframe thead th {\n",
       "        text-align: right;\n",
       "    }\n",
       "</style>\n",
       "<table border=\"1\" class=\"dataframe\">\n",
       "  <thead>\n",
       "    <tr style=\"text-align: right;\">\n",
       "      <th></th>\n",
       "      <th>ind</th>\n",
       "      <th>s_mt</th>\n",
       "      <th>s_mq</th>\n",
       "      <th>d</th>\n",
       "      <th>h_p</th>\n",
       "      <th>QW</th>\n",
       "      <th>DP</th>\n",
       "    </tr>\n",
       "  </thead>\n",
       "  <tbody>\n",
       "    <tr>\n",
       "      <th>ind</th>\n",
       "      <td>1.000000</td>\n",
       "      <td>-0.015201</td>\n",
       "      <td>-0.085577</td>\n",
       "      <td>0.030793</td>\n",
       "      <td>-0.033476</td>\n",
       "      <td>0.012205</td>\n",
       "      <td>0.032134</td>\n",
       "    </tr>\n",
       "    <tr>\n",
       "      <th>s_mt</th>\n",
       "      <td>-0.015201</td>\n",
       "      <td>1.000000</td>\n",
       "      <td>0.002774</td>\n",
       "      <td>-0.002534</td>\n",
       "      <td>0.002058</td>\n",
       "      <td>-0.018162</td>\n",
       "      <td>-0.005937</td>\n",
       "    </tr>\n",
       "    <tr>\n",
       "      <th>s_mq</th>\n",
       "      <td>-0.085577</td>\n",
       "      <td>0.002774</td>\n",
       "      <td>1.000000</td>\n",
       "      <td>0.003271</td>\n",
       "      <td>0.002259</td>\n",
       "      <td>-0.028739</td>\n",
       "      <td>-0.007786</td>\n",
       "    </tr>\n",
       "    <tr>\n",
       "      <th>d</th>\n",
       "      <td>0.030793</td>\n",
       "      <td>-0.002534</td>\n",
       "      <td>0.003271</td>\n",
       "      <td>1.000000</td>\n",
       "      <td>-0.003678</td>\n",
       "      <td>0.449105</td>\n",
       "      <td>0.189363</td>\n",
       "    </tr>\n",
       "    <tr>\n",
       "      <th>h_p</th>\n",
       "      <td>-0.033476</td>\n",
       "      <td>0.002058</td>\n",
       "      <td>0.002259</td>\n",
       "      <td>-0.003678</td>\n",
       "      <td>1.000000</td>\n",
       "      <td>-0.632678</td>\n",
       "      <td>-0.898030</td>\n",
       "    </tr>\n",
       "    <tr>\n",
       "      <th>QW</th>\n",
       "      <td>0.012205</td>\n",
       "      <td>-0.018162</td>\n",
       "      <td>-0.028739</td>\n",
       "      <td>0.449105</td>\n",
       "      <td>-0.632678</td>\n",
       "      <td>1.000000</td>\n",
       "      <td>0.743292</td>\n",
       "    </tr>\n",
       "    <tr>\n",
       "      <th>DP</th>\n",
       "      <td>0.032134</td>\n",
       "      <td>-0.005937</td>\n",
       "      <td>-0.007786</td>\n",
       "      <td>0.189363</td>\n",
       "      <td>-0.898030</td>\n",
       "      <td>0.743292</td>\n",
       "      <td>1.000000</td>\n",
       "    </tr>\n",
       "  </tbody>\n",
       "</table>\n",
       "</div>"
      ],
      "text/plain": [
       "           ind      s_mt      s_mq         d       h_p        QW        DP\n",
       "ind   1.000000 -0.015201 -0.085577  0.030793 -0.033476  0.012205  0.032134\n",
       "s_mt -0.015201  1.000000  0.002774 -0.002534  0.002058 -0.018162 -0.005937\n",
       "s_mq -0.085577  0.002774  1.000000  0.003271  0.002259 -0.028739 -0.007786\n",
       "d     0.030793 -0.002534  0.003271  1.000000 -0.003678  0.449105  0.189363\n",
       "h_p  -0.033476  0.002058  0.002259 -0.003678  1.000000 -0.632678 -0.898030\n",
       "QW    0.012205 -0.018162 -0.028739  0.449105 -0.632678  1.000000  0.743292\n",
       "DP    0.032134 -0.005937 -0.007786  0.189363 -0.898030  0.743292  1.000000"
      ]
     },
     "execution_count": 5,
     "metadata": {},
     "output_type": "execute_result"
    }
   ],
   "source": [
    "df.corr()"
   ]
  },
  {
   "cell_type": "code",
   "execution_count": 6,
   "id": "01edaa90-f9b4-4b87-a5a3-b5dbb06ec201",
   "metadata": {},
   "outputs": [
    {
     "name": "stdout",
     "output_type": "stream",
     "text": [
      "[1, 2, 3, 4]\n",
      "[5, 6]\n"
     ]
    }
   ],
   "source": [
    "a = [1,2,3,4,5,6]\n",
    "print(a[:-2])\n",
    "print(a[-2:])"
   ]
  },
  {
   "cell_type": "code",
   "execution_count": 7,
   "id": "510fd29c-a9bf-4a7d-bd5d-65fb955f5de5",
   "metadata": {},
   "outputs": [],
   "source": [
    "class CustomDataset(torch.utils.data.Dataset):\n",
    "    def __init__(self, data: pd.DataFrame, transfrom = None):\n",
    "        self.data: pd.DataFrame = data\n",
    "        self.transform = transfrom\n",
    "\n",
    "    def __getitem__(self, index):\n",
    "        x = np.asarray(self.data[[el for el in self.data.columns[:-2]]].iloc[index], dtype=np.float32)\n",
    "        y = np.asarray(self.data[[el for el in self.data.columns[-2:]]].iloc[index], dtype=np.float32)\n",
    "        return x,y\n",
    "    def __len__(self):\n",
    "        return len(self.data)\n",
    "        "
   ]
  },
  {
   "cell_type": "code",
   "execution_count": 8,
   "id": "6044b832-88bb-49f9-8ced-ad03361258a1",
   "metadata": {},
   "outputs": [],
   "source": [
    "dataset = CustomDataset(df)\n",
    "batch_size = 16\n",
    "validation_split = .2\n",
    "shuffle_dataset = True\n",
    "random_seed= 42"
   ]
  },
  {
   "cell_type": "code",
   "execution_count": 9,
   "id": "ece2f372-9c78-4a71-987f-265c9b9f672d",
   "metadata": {},
   "outputs": [],
   "source": [
    "dataset_size = len(dataset)\n",
    "indices = list(range(dataset_size))\n",
    "split = int(np.floor(validation_split * dataset_size))\n",
    "if shuffle_dataset :\n",
    "    np.random.seed(random_seed)\n",
    "    np.random.shuffle(indices)\n",
    "train_indices, val_indices = indices[split:], indices[:split]"
   ]
  },
  {
   "cell_type": "code",
   "execution_count": 10,
   "id": "64f392c1-0c54-43d6-9bfc-736a09e24bad",
   "metadata": {},
   "outputs": [],
   "source": [
    "train_sampler = SubsetRandomSampler(train_indices)\n",
    "valid_sampler = SubsetRandomSampler(val_indices)\n",
    "train_loader = torch.utils.data.DataLoader(dataset, batch_size=batch_size, \n",
    "                                           sampler=train_sampler)\n",
    "validation_loader = torch.utils.data.DataLoader(dataset, batch_size=batch_size,\n",
    "                                                sampler=valid_sampler)"
   ]
  },
  {
   "cell_type": "code",
   "execution_count": 11,
   "id": "6719e9f8-1ff2-4845-a147-88f2c5743b17",
   "metadata": {},
   "outputs": [],
   "source": [
    "model = nn.Sequential(\n",
    "    nn.Linear(5, 24),\n",
    "    nn.ReLU(),\n",
    "    nn.Linear(24, 12),\n",
    "    nn.ReLU(),\n",
    "    nn.Linear(12, 6),\n",
    "    nn.ReLU(),\n",
    "    nn.Linear(6, 2)\n",
    ")\n",
    "model = model.to(device)\n",
    "import torch.optim as optim\n",
    "optimizer = optim.Adam(model.parameters(), lr=0.0001)"
   ]
  },
  {
   "cell_type": "code",
   "execution_count": 12,
   "id": "1cf39cec-6eb2-4cac-bdf2-8d6b98bba0e2",
   "metadata": {},
   "outputs": [],
   "source": [
    "num_epochs = 10\n",
    "for epoch in range(num_epochs):\n",
    "    # Train:   \n",
    "    for batch_index, (X_batch, y_batch) in enumerate(train_loader):\n",
    "        y_pred = model(X_batch.to(device))\n",
    "        loss = r2_score(y_pred, y_batch.to(device))\n",
    "        optimizer.zero_grad()\n",
    "        loss.backward()\n",
    "        optimizer.step()\n"
   ]
  },
  {
   "cell_type": "code",
   "execution_count": 13,
   "id": "08eaf03e-05e9-482e-9024-f9bb50c0c8c2",
   "metadata": {},
   "outputs": [
    {
     "name": "stdout",
     "output_type": "stream",
     "text": [
      "tensor([[490.0000,   1.4663,   2.0218,   2.7154,   6.4048],\n",
      "        [278.0000,   2.2202,   1.3497,   2.3347,   6.0200],\n",
      "        [204.0000,   1.9766,   1.7118,   1.9459,   4.5531],\n",
      "        [333.0000,   2.6733,   1.4982,   1.7415,   7.6433],\n",
      "        [ 79.0000,   1.3597,   1.4357,   2.6713,   6.3086],\n",
      "        [316.0000,   1.8699,   2.0870,   2.6112,   5.6353],\n",
      "        [238.0000,   1.8890,   1.0866,   2.9760,   5.0341],\n",
      "        [154.0000,   1.6834,   1.7926,   1.5130,   8.8096],\n",
      "        [394.0000,   2.6886,   1.0319,   1.8778,   7.2946],\n",
      "        [352.0000,   1.2683,   1.1856,   1.4689,   5.1062],\n",
      "        [381.0000,   2.5439,   0.9277,   2.5471,   5.9599],\n",
      "        [414.0000,   2.5705,   1.6441,   1.6653,   6.3808],\n",
      "        [ 77.0000,   1.1541,   1.6884,   1.5972,   4.1683],\n",
      "        [477.0000,   2.0261,   1.9020,   2.0461,   5.6232],\n",
      "        [104.0000,   1.4854,   0.8756,   1.2725,   8.0521],\n",
      "        [304.0000,   2.6200,   1.2820,   2.6673,   5.6954]])\n"
     ]
    }
   ],
   "source": [
    "x_test = [el for el in validation_loader]\n",
    "print(x_test[0][0])"
   ]
  },
  {
   "cell_type": "code",
   "execution_count": 17,
   "id": "645319ef-26d5-492a-8fc8-ce26dcf3e4c3",
   "metadata": {},
   "outputs": [
    {
     "name": "stdout",
     "output_type": "stream",
     "text": [
      "tensor(-3.8558, device='cuda:0', grad_fn=<MeanBackward0>)\n"
     ]
    }
   ],
   "source": [
    "test = [el for el in validation_loader]\n",
    "model.eval()\n",
    "y_pred = model(test[0][0][1].to(device))\n",
    "result_metric = r2_score(y_pred.to(device), test[0][1][1].to(device))\n",
    "print(result_metric)\n"
   ]
  },
  {
   "cell_type": "code",
   "execution_count": null,
   "id": "5c925a78-f0a4-4ef7-980b-8e66ff6372da",
   "metadata": {},
   "outputs": [],
   "source": []
  },
  {
   "cell_type": "code",
   "execution_count": null,
   "id": "376b086c-ee32-4636-b7c8-bae6750d0f14",
   "metadata": {},
   "outputs": [],
   "source": []
  }
 ],
 "metadata": {
  "kernelspec": {
   "display_name": "Poetry",
   "language": "python",
   "name": "poetry-kernel"
  },
  "language_info": {
   "codemirror_mode": {
    "name": "ipython",
    "version": 3
   },
   "file_extension": ".py",
   "mimetype": "text/x-python",
   "name": "python",
   "nbconvert_exporter": "python",
   "pygments_lexer": "ipython3",
   "version": "3.8.10"
  }
 },
 "nbformat": 4,
 "nbformat_minor": 5
}
