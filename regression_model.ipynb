{
 "cells": [
  {
   "cell_type": "code",
   "execution_count": 1,
   "id": "28f9b744-0198-42a2-b0b0-5f0fdaa9a030",
   "metadata": {},
   "outputs": [],
   "source": [
    "import numpy as np\n",
    "import pandas as pd\n",
    "import matplotlib.pyplot as plt\n",
    "import torch\n",
    "import pathlib\n",
    "import seaborn as sns\n",
    "import pathlib\n",
    "# to use r2 as loss function (dont work yet)\n",
    "# from torchmetrics.functional import r2_score as r2_loss\n",
    "from torcheval.metrics.functional import r2_score\n",
    "from torch.utils.data.sampler import SubsetRandomSampler\n",
    "import torch.nn as nn\n",
    "import torch.optim as optim\n",
    "import logging\n",
    "from copy import copy"
   ]
  },
  {
   "cell_type": "code",
   "execution_count": 2,
   "id": "ec139866-fc2e-4b2e-9ba6-29ec863f59c6",
   "metadata": {},
   "outputs": [
    {
     "name": "stdout",
     "output_type": "stream",
     "text": [
      "cuda:0\n"
     ]
    }
   ],
   "source": [
    "device = torch.device(\"cuda:0\" if torch.cuda.is_available() else \"cpu\")\n",
    "print(device)"
   ]
  },
  {
   "cell_type": "code",
   "execution_count": 3,
   "id": "428e9b8f-d4ee-491f-86e0-2eab3ac2942e",
   "metadata": {},
   "outputs": [],
   "source": [
    "csv_path = pathlib.Path(\"./data/2022_Test_ML.csv\")\n",
    "df = pd.read_csv(csv_path)"
   ]
  },
  {
   "cell_type": "code",
   "execution_count": 4,
   "id": "921fb745-1a7d-41ab-a26c-869073788d31",
   "metadata": {},
   "outputs": [
    {
     "data": {
      "text/plain": [
       "<bound method NDFrame.head of      ind      s_mt      s_mq         d       h_p           QW           DP\n",
       "0      0  1.409218  1.954108  2.867735  7.811623  1504.175621   501.563016\n",
       "1      1  1.382565  2.006212  1.545090  8.124248  1240.530500   377.163158\n",
       "2      2  1.622445  1.386172  1.192385  7.354709  1385.191155   457.404772\n",
       "3      3  1.786172  1.591984  2.350701  4.324649  1602.841975  1429.795145\n",
       "4      4  1.995591  2.024449  1.208417  6.993988  1326.290979   514.009143\n",
       "..   ...       ...       ...       ...       ...          ...          ...\n",
       "495  495  0.994188  0.898998  1.276553  7.450902  1372.713745   427.058560\n",
       "496  496  2.067936  1.094389  2.198397  4.396794  1485.744424  1201.422759\n",
       "497  497  1.847094  1.287174  2.134269  9.939880  1573.955147   344.570374\n",
       "498  498  1.458717  1.057916  1.044088  9.110220  1090.437833   314.558218\n",
       "499  499  0.811423  1.146493  2.106212  6.513026  1646.376404   671.620077\n",
       "\n",
       "[500 rows x 7 columns]>"
      ]
     },
     "execution_count": 4,
     "metadata": {},
     "output_type": "execute_result"
    }
   ],
   "source": [
    "df.head"
   ]
  },
  {
   "cell_type": "code",
   "execution_count": 5,
   "id": "2b995108-caba-4f9a-a101-24a18d98a747",
   "metadata": {},
   "outputs": [],
   "source": [
    "df = df.drop([\"ind\"], axis=1)"
   ]
  },
  {
   "cell_type": "code",
   "execution_count": 6,
   "id": "f647fbc0-f94d-4ffb-9b99-860c1924ff1b",
   "metadata": {},
   "outputs": [
    {
     "data": {
      "text/html": [
       "<div>\n",
       "<style scoped>\n",
       "    .dataframe tbody tr th:only-of-type {\n",
       "        vertical-align: middle;\n",
       "    }\n",
       "\n",
       "    .dataframe tbody tr th {\n",
       "        vertical-align: top;\n",
       "    }\n",
       "\n",
       "    .dataframe thead th {\n",
       "        text-align: right;\n",
       "    }\n",
       "</style>\n",
       "<table border=\"1\" class=\"dataframe\">\n",
       "  <thead>\n",
       "    <tr style=\"text-align: right;\">\n",
       "      <th></th>\n",
       "      <th>s_mt</th>\n",
       "      <th>s_mq</th>\n",
       "      <th>d</th>\n",
       "      <th>h_p</th>\n",
       "      <th>QW</th>\n",
       "      <th>DP</th>\n",
       "    </tr>\n",
       "  </thead>\n",
       "  <tbody>\n",
       "    <tr>\n",
       "      <th>s_mt</th>\n",
       "      <td>1.000000</td>\n",
       "      <td>0.002774</td>\n",
       "      <td>-0.002534</td>\n",
       "      <td>0.002058</td>\n",
       "      <td>-0.018162</td>\n",
       "      <td>-0.005937</td>\n",
       "    </tr>\n",
       "    <tr>\n",
       "      <th>s_mq</th>\n",
       "      <td>0.002774</td>\n",
       "      <td>1.000000</td>\n",
       "      <td>0.003271</td>\n",
       "      <td>0.002259</td>\n",
       "      <td>-0.028739</td>\n",
       "      <td>-0.007786</td>\n",
       "    </tr>\n",
       "    <tr>\n",
       "      <th>d</th>\n",
       "      <td>-0.002534</td>\n",
       "      <td>0.003271</td>\n",
       "      <td>1.000000</td>\n",
       "      <td>-0.003678</td>\n",
       "      <td>0.449105</td>\n",
       "      <td>0.189363</td>\n",
       "    </tr>\n",
       "    <tr>\n",
       "      <th>h_p</th>\n",
       "      <td>0.002058</td>\n",
       "      <td>0.002259</td>\n",
       "      <td>-0.003678</td>\n",
       "      <td>1.000000</td>\n",
       "      <td>-0.632678</td>\n",
       "      <td>-0.898030</td>\n",
       "    </tr>\n",
       "    <tr>\n",
       "      <th>QW</th>\n",
       "      <td>-0.018162</td>\n",
       "      <td>-0.028739</td>\n",
       "      <td>0.449105</td>\n",
       "      <td>-0.632678</td>\n",
       "      <td>1.000000</td>\n",
       "      <td>0.743292</td>\n",
       "    </tr>\n",
       "    <tr>\n",
       "      <th>DP</th>\n",
       "      <td>-0.005937</td>\n",
       "      <td>-0.007786</td>\n",
       "      <td>0.189363</td>\n",
       "      <td>-0.898030</td>\n",
       "      <td>0.743292</td>\n",
       "      <td>1.000000</td>\n",
       "    </tr>\n",
       "  </tbody>\n",
       "</table>\n",
       "</div>"
      ],
      "text/plain": [
       "          s_mt      s_mq         d       h_p        QW        DP\n",
       "s_mt  1.000000  0.002774 -0.002534  0.002058 -0.018162 -0.005937\n",
       "s_mq  0.002774  1.000000  0.003271  0.002259 -0.028739 -0.007786\n",
       "d    -0.002534  0.003271  1.000000 -0.003678  0.449105  0.189363\n",
       "h_p   0.002058  0.002259 -0.003678  1.000000 -0.632678 -0.898030\n",
       "QW   -0.018162 -0.028739  0.449105 -0.632678  1.000000  0.743292\n",
       "DP   -0.005937 -0.007786  0.189363 -0.898030  0.743292  1.000000"
      ]
     },
     "execution_count": 6,
     "metadata": {},
     "output_type": "execute_result"
    }
   ],
   "source": [
    "df.corr()"
   ]
  },
  {
   "cell_type": "code",
   "execution_count": 7,
   "id": "01edaa90-f9b4-4b87-a5a3-b5dbb06ec201",
   "metadata": {},
   "outputs": [
    {
     "name": "stdout",
     "output_type": "stream",
     "text": [
      "[1, 2, 3, 4]\n",
      "[5, 6]\n"
     ]
    }
   ],
   "source": [
    "a = [1,2,3,4,5,6]\n",
    "print(a[:-2])\n",
    "print(a[-2:])"
   ]
  },
  {
   "cell_type": "code",
   "execution_count": 8,
   "id": "510fd29c-a9bf-4a7d-bd5d-65fb955f5de5",
   "metadata": {},
   "outputs": [],
   "source": [
    "# custom dataset for splitting between train and test batches\n",
    "class CustomDataset(torch.utils.data.Dataset):\n",
    "    def __init__(self, data: pd.DataFrame, transfrom = None):\n",
    "        self.data: pd.DataFrame = data\n",
    "        self.transform = transfrom\n",
    "\n",
    "    def __getitem__(self, index):\n",
    "        # batches if input feachures\n",
    "        x = np.asarray(self.data[[el for el in self.data.columns[:-2]]].iloc[index], dtype=np.float32)\n",
    "        # objects vars to fit\n",
    "        y = np.asarray(self.data[[el for el in self.data.columns[-2:]]].iloc[index], dtype=np.float32)\n",
    "        return x,y\n",
    "        \n",
    "    def __len__(self):\n",
    "        return len(self.data)        "
   ]
  },
  {
   "cell_type": "code",
   "execution_count": 9,
   "id": "6044b832-88bb-49f9-8ced-ad03361258a1",
   "metadata": {},
   "outputs": [],
   "source": [
    "# config\n",
    "batch_size = 16\n",
    "validation_split = .4\n",
    "shuffle_dataset = True\n",
    "random_seed= 42\n",
    "n_epochs = 250\n",
    "input_channels = 4\n",
    "output_channels = 2"
   ]
  },
  {
   "cell_type": "code",
   "execution_count": 10,
   "id": "ece2f372-9c78-4a71-987f-265c9b9f672d",
   "metadata": {},
   "outputs": [],
   "source": [
    "# preparing dataset\n",
    "dataset = CustomDataset(df)\n",
    "dataset_size = len(dataset)\n",
    "indices = list(range(dataset_size))\n",
    "split = int(np.floor(validation_split * dataset_size))\n",
    "if shuffle_dataset :\n",
    "    np.random.seed(random_seed)\n",
    "    np.random.shuffle(indices)\n",
    "train_indices, val_indices = indices[split:], indices[:split]"
   ]
  },
  {
   "cell_type": "code",
   "execution_count": 11,
   "id": "64f392c1-0c54-43d6-9bfc-736a09e24bad",
   "metadata": {},
   "outputs": [],
   "source": [
    "train_sampler = SubsetRandomSampler(train_indices)\n",
    "valid_sampler = SubsetRandomSampler(val_indices)\n",
    "train_loader = torch.utils.data.DataLoader(dataset, batch_size=batch_size, \n",
    "                                           sampler=train_sampler)\n",
    "validation_loader = torch.utils.data.DataLoader(dataset, batch_size=batch_size,\n",
    "                                                sampler=valid_sampler)"
   ]
  },
  {
   "cell_type": "code",
   "execution_count": 12,
   "id": "6719e9f8-1ff2-4845-a147-88f2c5743b17",
   "metadata": {},
   "outputs": [],
   "source": [
    "# base regression model\n",
    "class BaseModel(nn.Module):\n",
    "    def __init__(self, input_channels: int, output_channels: int):\n",
    "        super().__init__()\n",
    "        self.linear1 = nn.Linear(input_channels,output_channels)\n",
    "\n",
    "    def forward(self, x):\n",
    "        out = self.linear1(x)\n",
    "        return out\n",
    "\n",
    "model = BaseModel(input_channels, output_channels).to(device)\n",
    "\n",
    "optimizer = optim.SGD(model.parameters(), lr=0.0001)\n",
    "loss_fn = nn.MSELoss()"
   ]
  },
  {
   "cell_type": "code",
   "execution_count": 13,
   "id": "97d25630-d4bd-486e-921e-800a4e4887a5",
   "metadata": {},
   "outputs": [],
   "source": [
    "class FitModel():\n",
    "    def __init__(self, \n",
    "                 n_epochs: int, \n",
    "                 model: nn.Module, \n",
    "                 train_load: torch.utils.data.DataLoader,\n",
    "                 loss_fn,\n",
    "                 optimizer,\n",
    "                 logger\n",
    "                ):\n",
    "        self.n_epochs: int = n_epochs\n",
    "        self.model: nn.Module = model\n",
    "        self.train_loader: torch.utils.data.DataLoader = train_loader\n",
    "        self.loss_fn = loss_fn\n",
    "        self.loss_history: list = list()\n",
    "        self.r2_score_history: list = list()\n",
    "        self.logger: logging.Logger = logger\n",
    "\n",
    "    def fit(self):\n",
    "        # Train: \n",
    "        for epoch in range(self.n_epochs):\n",
    "            for batch_index, (X_batch, y_batch) in enumerate(train_loader):\n",
    "                y_pred = model(X_batch.to(device)).to(device)\n",
    "                loss = loss_fn(y_pred, y_batch.to(device))\n",
    "                optimizer.zero_grad()\n",
    "                loss.backward()\n",
    "                optimizer.step()\n",
    "            r2 = self.calc_r2_score(y_batch.to(device), y_pred)\n",
    "            self.save_loss(copy(loss))\n",
    "            self.logger.info(f'iteratiion - {epoch} \\n r2 score - {r2}, loss - {loss.item()}')\n",
    "            \n",
    "    def save_loss(self, loss):\n",
    "        self.loss_history.append(loss.item())\n",
    "\n",
    "    def calc_r2_score(self, y_pred: torch.Tensor, target: torch.Tensor):\n",
    "        r2 = r2_score(y_pred, target)\n",
    "        self.r2_score_history.append(r2.cpu().detach().numpy())\n",
    "        return r2"
   ]
  },
  {
   "cell_type": "code",
   "execution_count": 14,
   "id": "06b740e8-3d7f-4257-8cf1-52dc961076e0",
   "metadata": {},
   "outputs": [],
   "source": [
    "def get_logger():\n",
    "    logger = logging.getLogger(\"base_model\")\n",
    "    return logger"
   ]
  },
  {
   "cell_type": "code",
   "execution_count": 15,
   "id": "955a314f-cc82-4da9-ba11-2914e84b2cb3",
   "metadata": {},
   "outputs": [],
   "source": [
    "logger = get_logger()\n",
    "fit_model = FitModel(n_epochs=n_epochs, model=model, train_load=train_loader, loss_fn=loss_fn, optimizer=optimizer, logger=logger)\n",
    "fit_model.fit()"
   ]
  },
  {
   "cell_type": "code",
   "execution_count": 16,
   "id": "08eaf03e-05e9-482e-9024-f9bb50c0c8c2",
   "metadata": {},
   "outputs": [
    {
     "name": "stdout",
     "output_type": "stream",
     "text": [
      "tensor([[1.6834, 1.7926, 1.5130, 8.8096],\n",
      "        [2.6581, 1.8343, 1.8697, 4.8898],\n",
      "        [2.3345, 1.8655, 1.8457, 9.8798],\n",
      "        [2.4906, 1.9958, 2.2385, 5.3828],\n",
      "        [2.6505, 1.0006, 1.9419, 4.9980],\n",
      "        [1.1693, 1.8629, 1.9739, 8.0401],\n",
      "        [2.6010, 1.4305, 2.7836, 8.3046],\n",
      "        [1.2912, 1.7874, 1.4850, 9.8317],\n",
      "        [1.3788, 0.8938, 2.3828, 5.1303],\n",
      "        [1.9271, 1.6571, 2.5912, 8.5090],\n",
      "        [1.7671, 1.7431, 1.0681, 6.8978],\n",
      "        [1.3902, 1.1725, 2.2184, 9.8076],\n",
      "        [2.4449, 1.3575, 2.4389, 7.2585],\n",
      "        [2.4182, 1.8890, 1.0922, 4.7575],\n",
      "        [2.4373, 1.3731, 2.9038, 6.8617],\n",
      "        [2.3878, 1.1595, 2.9359, 8.1002]])\n"
     ]
    }
   ],
   "source": [
    "x_test = [el for el in validation_loader]\n",
    "print(x_test[0][0])"
   ]
  },
  {
   "cell_type": "code",
   "execution_count": 17,
   "id": "645319ef-26d5-492a-8fc8-ce26dcf3e4c3",
   "metadata": {},
   "outputs": [
    {
     "name": "stdout",
     "output_type": "stream",
     "text": [
      "tensor(0.8928, device='cuda:0')\n",
      "tensor([1303.8529,  587.4523], device='cuda:0', grad_fn=<ViewBackward0>)\n",
      "tensor([1474.6772,  664.8203], device='cuda:0')\n"
     ]
    }
   ],
   "source": [
    "test = [el for el in validation_loader]\n",
    "model.eval()\n",
    "y_pred = model(test[0][0][0].to(device))\n",
    "result_metric = r2_score(y_pred.to(device), test[0][1][0].to(device))\n",
    "print(result_metric)\n",
    "print(y_pred)\n",
    "print(test[0][1][0].to(device))\n"
   ]
  },
  {
   "cell_type": "code",
   "execution_count": 18,
   "id": "5c925a78-f0a4-4ef7-980b-8e66ff6372da",
   "metadata": {},
   "outputs": [
    {
     "data": {
      "image/png": "[encoded data removed]",
      "text/plain": [
       "<Figure size 640x480 with 1 Axes>"
      ]
     },
     "metadata": {},
     "output_type": "display_data"
    }
   ],
   "source": [
    "loss_x = fit_model.loss_history\n",
    "x = range(len(loss_x))\n",
    "plt.plot(x, loss_x)\n",
    "plt.show()\n"
   ]
  },
  {
   "cell_type": "code",
   "execution_count": 19,
   "id": "376b086c-ee32-4636-b7c8-bae6750d0f14",
   "metadata": {},
   "outputs": [
    {
     "data": {
      "image/png": "[encoded data removed]",
      "text/plain": [
       "<Figure size 640x480 with 1 Axes>"
      ]
     },
     "metadata": {},
     "output_type": "display_data"
    }
   ],
   "source": [
    "r2_score = fit_model.r2_score_history\n",
    "x = range(len(r2_score))\n",
    "plt.plot(x, r2_score)\n",
    "plt.show()"
   ]
  },
  {
   "cell_type": "code",
   "execution_count": null,
   "id": "4320e6cd-4126-4e69-baec-f4f541ab9bf9",
   "metadata": {},
   "outputs": [],
   "source": []
  }
 ],
 "metadata": {
  "kernelspec": {
   "display_name": "Poetry",
   "language": "python",
   "name": "poetry-kernel"
  },
  "language_info": {
   "codemirror_mode": {
    "name": "ipython",
    "version": 3
   },
   "file_extension": ".py",
   "mimetype": "text/x-python",
   "name": "python",
   "nbconvert_exporter": "python",
   "pygments_lexer": "ipython3",
   "version": "3.8.10"
  }
 },
 "nbformat": 4,
 "nbformat_minor": 5
}
